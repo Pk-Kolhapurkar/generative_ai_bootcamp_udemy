{
 "cells": [
  {
   "cell_type": "code",
   "execution_count": 1,
   "id": "96b8500b-f5c4-4826-81c9-4dfdd6580755",
   "metadata": {},
   "outputs": [],
   "source": [
    "import os\n",
    "from dotenv import load_dotenv, find_dotenv\n",
    "_ = load_dotenv(find_dotenv())\n",
    "openai_api_key = os.environ[\"OPENAI_API_KEY\"]"
   ]
  },
  {
   "cell_type": "markdown",
   "id": "d52c2c13-ad8b-4249-8f87-8b4a741e5840",
   "metadata": {},
   "source": [
    "* Update 06/01/2024: Many thanks to our soon-to-be Honor Student **Nicolás Oliveira** for the suggestions to update this code to the lastest LangChain version!"
   ]
  },
  {
   "cell_type": "markdown",
   "id": "f0a0dce8-6b28-4d10-a653-bf66847b8648",
   "metadata": {
    "editable": true,
    "slideshow": {
     "slide_type": ""
    },
    "tags": []
   },
   "source": [
    "### Connect with LM"
   ]
  },
  {
   "cell_type": "code",
   "execution_count": 2,
   "id": "200545d3-0f14-43f5-b749-06f2dc13a453",
   "metadata": {},
   "outputs": [],
   "source": [
    "from langchain_openai import ChatOpenAI"
   ]
  },
  {
   "cell_type": "code",
   "execution_count": 3,
   "id": "eea210b4-28f3-4060-ae77-8bba410e437a",
   "metadata": {},
   "outputs": [],
   "source": [
    "my_creative_llm = ChatOpenAI(model=\"gpt-3.5-turbo\", temperature=0.9)"
   ]
  },
  {
   "cell_type": "code",
   "execution_count": 4,
   "id": "e605a626-24e9-4c1f-9829-21c059722342",
   "metadata": {},
   "outputs": [],
   "source": [
    "question = \"What are the 5 best things to do in life?\""
   ]
  },
  {
   "cell_type": "code",
   "execution_count": 5,
   "id": "12624519-5a4c-4b26-ac9c-db8dd3639a0a",
   "metadata": {},
   "outputs": [
    {
     "name": "stdout",
     "output_type": "stream",
     "text": [
      "content=\"1. Travel and explore new places: Traveling allows you to experience new cultures, meet new people, and create lasting memories. It can broaden your perspectives and help you grow as a person.\\n\\n2. Pursue your passions and hobbies: Engaging in activities that you love can bring joy, fulfillment, and a sense of purpose to your life. Whether it's painting, playing a musical instrument, cooking, or hiking, make time for the things that make you happy.\\n\\n3. Build meaningful relationships: Cultivating strong, healthy relationships with family and friends is essential for overall well-being. Spend quality time with loved ones, listen actively, and show kindness and appreciation towards them.\\n\\n4. Practice self-care and prioritize your health: Taking care of yourself physically, mentally, and emotionally is crucial for a fulfilling life. Eat well, exercise regularly, get enough sleep, and manage stress effectively. Make time for activities that promote relaxation and self-reflection.\\n\\n5. Give back and help others: Volunteering, donating, or simply offering a helping hand to those in need can bring a sense of purpose and fulfillment. Making a positive impact on others' lives can create a ripple effect of kindness and compassion in the world.\"\n"
     ]
    }
   ],
   "source": [
    "print(my_creative_llm.invoke(question))"
   ]
  },
  {
   "cell_type": "markdown",
   "id": "96dccfc1-5881-4bec-9c12-c13ca321b744",
   "metadata": {},
   "source": [
    "### Create a prompt template to wrap the user input"
   ]
  },
  {
   "cell_type": "code",
   "execution_count": 6,
   "id": "59a1af92-3067-4e15-8ce9-e160e099db4b",
   "metadata": {},
   "outputs": [],
   "source": [
    "from langchain_core.prompts import PromptTemplate"
   ]
  },
  {
   "cell_type": "code",
   "execution_count": 7,
   "id": "ce0ec015-83bd-4912-85f3-5c4ee2e9a131",
   "metadata": {},
   "outputs": [],
   "source": [
    "my_prompt_template = PromptTemplate(\n",
    "    input_variables = [\"destination\"],\n",
    "    template = \"What are the 3 best things to do in {destination}?\"\n",
    ")"
   ]
  },
  {
   "cell_type": "code",
   "execution_count": 8,
   "id": "619ad98a-48b2-4630-8079-cb5eb7f2944f",
   "metadata": {},
   "outputs": [],
   "source": [
    "user_input = \"Barcelona\""
   ]
  },
  {
   "cell_type": "code",
   "execution_count": 9,
   "id": "26e558c0-d6b4-4363-b3d9-2f925dcb81aa",
   "metadata": {},
   "outputs": [
    {
     "name": "stdout",
     "output_type": "stream",
     "text": [
      "content=\"1. Visit the famous Sagrada Familia: This iconic basilica, designed by architect Antoni Gaudí, is a must-see attraction in Barcelona. Its intricate façade and towering spires make it a breathtaking sight to behold.\\n\\n2. Explore the Gothic Quarter: Wander through the narrow cobblestone streets of this historic neighborhood, filled with medieval buildings, charming plazas, and hidden gems. Stop by the Barcelona Cathedral and the Picasso Museum for a dose of culture and history.\\n\\n3. Relax at the beach: Barcelona boasts several beautiful beaches along its coastline, including Barceloneta Beach, where you can soak up the sun, take a dip in the Mediterranean Sea, or enjoy a leisurely stroll along the promenade. Don't forget to try some fresh seafood at one of the beachfront restaurants.\"\n"
     ]
    }
   ],
   "source": [
    "print(my_creative_llm.invoke(my_prompt_template.format(destination=user_input)))"
   ]
  },
  {
   "cell_type": "markdown",
   "id": "e9acae73-c386-4456-8c97-10bac4fa4383",
   "metadata": {},
   "source": [
    "### Combine instructions in chains"
   ]
  },
  {
   "cell_type": "code",
   "execution_count": 10,
   "id": "9eaba1e0-6217-49bd-8fb3-e413576ce566",
   "metadata": {},
   "outputs": [],
   "source": [
    "from langchain_core.prompts import PromptTemplate\n",
    "from langchain_openai import ChatOpenAI\n",
    "from langchain.chains import LLMChain"
   ]
  },
  {
   "cell_type": "code",
   "execution_count": 11,
   "id": "031b4795-629d-4346-ae66-6c052429ef19",
   "metadata": {},
   "outputs": [],
   "source": [
    "my_no_creative_llm = ChatOpenAI(temperature=0)"
   ]
  },
  {
   "cell_type": "code",
   "execution_count": 12,
   "id": "4fc23d0b-cc3e-4ff0-bcb3-3dff94613145",
   "metadata": {},
   "outputs": [],
   "source": [
    "my_prompt_template = PromptTemplate(\n",
    "    input_variables = [\"politician\"],\n",
    "    template = \"What are the 3 most remarkable achievements of {politician}?\",\n",
    ")"
   ]
  },
  {
   "cell_type": "code",
   "execution_count": 13,
   "id": "175c8c74-5c85-4b41-8b9c-0a66ebc63e21",
   "metadata": {},
   "outputs": [],
   "source": [
    "my_chain = LLMChain(llm=my_no_creative_llm, prompt=my_prompt_template)"
   ]
  },
  {
   "cell_type": "code",
   "execution_count": 23,
   "id": "d934b520-89af-4f95-b1a6-ce7f90b73222",
   "metadata": {},
   "outputs": [
    {
     "name": "stdout",
     "output_type": "stream",
     "text": [
      "{'politician': 'Churchill', 'text': '1. Leadership during World War II: Winston Churchill\\'s leadership as Prime Minister of the United Kingdom during World War II was one of his most remarkable achievements. He inspired the British people to resist Nazi Germany and played a key role in the Allied victory over the Axis powers.\\n\\n2. Iron Curtain speech: In 1946, Churchill delivered his famous \"Iron Curtain\" speech in Fulton, Missouri, in which he warned of the growing threat of Soviet expansionism in Eastern Europe. This speech is considered a turning point in the Cold War and helped to shape Western policy towards the Soviet Union.\\n\\n3. Nobel Prize in Literature: In 1953, Churchill was awarded the Nobel Prize in Literature for his historical writings and speeches, particularly his accounts of World War II. This recognition solidified his reputation as one of the greatest statesmen and orators of the 20th century.'}\n"
     ]
    }
   ],
   "source": [
    "print(my_chain.invoke(\"Churchill\"))"
   ]
  },
  {
   "cell_type": "markdown",
   "id": "0ae8e2df-8e9c-409c-a18d-1dccf72367db",
   "metadata": {},
   "source": [
    "### Agents: give reasoning power to LMs\n",
    "1. Load some external tools (google search, llm-math, etc)\n",
    "2. Initialize an agent type on top of the LM\n",
    "3. Run the agent and she will decide the tools to use based on your input"
   ]
  },
  {
   "cell_type": "markdown",
   "id": "2236ce09-27cb-4400-a5d7-9459c544721f",
   "metadata": {},
   "source": [
    "*Careful: operations with agents are more expensive in tokens. We will not execute the code in this demo. To comment out an entire cell in Mac: Command + /*"
   ]
  },
  {
   "cell_type": "code",
   "execution_count": 15,
   "id": "c85fd297-d6c8-45ea-901d-751b4c6d81af",
   "metadata": {},
   "outputs": [],
   "source": [
    "# from langchain.agents import load_tools\n",
    "# from langchain.agents import initialize_agent\n",
    "# from langchain.llms import OpenAI\n",
    "# tools = load_tools([\"serpapi\", \"llm-math\"], llm=llm)\n",
    "# agent = initialize_agent(tools, llm, agent=\"zero-shot-react-description\", verbose=True)\n",
    "# agent.run(\"Who is the current leader of Japan? What is the largest prime number that is smaller than their age?\")"
   ]
  },
  {
   "cell_type": "markdown",
   "id": "154c8ee5-5706-41cf-a7a7-b6fa564f3b9e",
   "metadata": {},
   "source": [
    "### Add memory"
   ]
  },
  {
   "cell_type": "code",
   "execution_count": 16,
   "id": "9db87c29-77ce-4d52-8e9a-d88b7ed0da37",
   "metadata": {},
   "outputs": [],
   "source": [
    "from langchain import ConversationChain"
   ]
  },
  {
   "cell_type": "code",
   "execution_count": 17,
   "id": "d2ae3745-6d28-4944-925b-e29febf9c0c5",
   "metadata": {},
   "outputs": [],
   "source": [
    "my_no_creative_llm = ChatOpenAI(temperature=0)"
   ]
  },
  {
   "cell_type": "code",
   "execution_count": 18,
   "id": "8224f7cf-c1ea-41df-b2f5-4ed903eb4a2d",
   "metadata": {},
   "outputs": [],
   "source": [
    "my_conversation = ConversationChain(llm=my_no_creative_llm, verbose=True)"
   ]
  },
  {
   "cell_type": "code",
   "execution_count": 19,
   "id": "89d8a833-7941-4beb-bac1-c5386e49480e",
   "metadata": {},
   "outputs": [
    {
     "name": "stdout",
     "output_type": "stream",
     "text": [
      "\n",
      "\n",
      "\u001b[1m> Entering new ConversationChain chain...\u001b[0m\n",
      "Prompt after formatting:\n",
      "\u001b[32;1m\u001b[1;3mThe following is a friendly conversation between a human and an AI. The AI is talkative and provides lots of specific details from its context. If the AI does not know the answer to a question, it truthfully says it does not know.\n",
      "\n",
      "Current conversation:\n",
      "\n",
      "Human: hi there!\n",
      "AI:\u001b[0m\n",
      "\n",
      "\u001b[1m> Finished chain.\u001b[0m\n"
     ]
    },
    {
     "data": {
      "text/plain": [
       "{'input': 'hi there!',\n",
       " 'history': '',\n",
       " 'response': 'Hello! How can I assist you today?'}"
      ]
     },
     "execution_count": 19,
     "metadata": {},
     "output_type": "execute_result"
    }
   ],
   "source": [
    "my_conversation.invoke(\"hi there!\")"
   ]
  },
  {
   "cell_type": "code",
   "execution_count": 20,
   "id": "f0203b4c-e619-4ffa-bcd2-df135c0377b8",
   "metadata": {},
   "outputs": [
    {
     "name": "stdout",
     "output_type": "stream",
     "text": [
      "\n",
      "\n",
      "\u001b[1m> Entering new ConversationChain chain...\u001b[0m\n",
      "Prompt after formatting:\n",
      "\u001b[32;1m\u001b[1;3mThe following is a friendly conversation between a human and an AI. The AI is talkative and provides lots of specific details from its context. If the AI does not know the answer to a question, it truthfully says it does not know.\n",
      "\n",
      "Current conversation:\n",
      "Human: hi there!\n",
      "AI: Hello! How can I assist you today?\n",
      "Human: My name is Julio. What is your name?\n",
      "AI:\u001b[0m\n",
      "\n",
      "\u001b[1m> Finished chain.\u001b[0m\n"
     ]
    },
    {
     "data": {
      "text/plain": [
       "{'input': 'My name is Julio. What is your name?',\n",
       " 'history': 'Human: hi there!\\nAI: Hello! How can I assist you today?',\n",
       " 'response': 'Hello Julio! My name is AI-9000. How can I help you today?'}"
      ]
     },
     "execution_count": 20,
     "metadata": {},
     "output_type": "execute_result"
    }
   ],
   "source": [
    "my_conversation.invoke(\"My name is Julio. What is your name?\")"
   ]
  },
  {
   "cell_type": "code",
   "execution_count": 21,
   "id": "fea2dd07-0b84-4f02-8814-b685f4a793ab",
   "metadata": {},
   "outputs": [
    {
     "name": "stdout",
     "output_type": "stream",
     "text": [
      "\n",
      "\n",
      "\u001b[1m> Entering new ConversationChain chain...\u001b[0m\n",
      "Prompt after formatting:\n",
      "\u001b[32;1m\u001b[1;3mThe following is a friendly conversation between a human and an AI. The AI is talkative and provides lots of specific details from its context. If the AI does not know the answer to a question, it truthfully says it does not know.\n",
      "\n",
      "Current conversation:\n",
      "Human: hi there!\n",
      "AI: Hello! How can I assist you today?\n",
      "Human: My name is Julio. What is your name?\n",
      "AI: Hello Julio! My name is AI-9000. How can I help you today?\n",
      "Human: Do you remember my name?\n",
      "AI:\u001b[0m\n",
      "\n",
      "\u001b[1m> Finished chain.\u001b[0m\n"
     ]
    },
    {
     "data": {
      "text/plain": [
       "'Yes, Julio! I have the ability to remember details like your name to provide personalized assistance. How can I assist you further today?'"
      ]
     },
     "execution_count": 21,
     "metadata": {},
     "output_type": "execute_result"
    }
   ],
   "source": [
    "my_conversation.predict(input=\"Do you remember my name?\")"
   ]
  },
  {
   "cell_type": "code",
   "execution_count": 22,
   "id": "07b3da01-bfd8-4e80-bc08-34003f05e6c1",
   "metadata": {},
   "outputs": [
    {
     "name": "stdout",
     "output_type": "stream",
     "text": [
      "memory=ConversationBufferMemory(chat_memory=ChatMessageHistory(messages=[HumanMessage(content='hi there!'), AIMessage(content='Hello! How can I assist you today?'), HumanMessage(content='My name is Julio. What is your name?'), AIMessage(content='Hello Julio! My name is AI-9000. How can I help you today?'), HumanMessage(content='Do you remember my name?'), AIMessage(content='Yes, Julio! I have the ability to remember details like your name to provide personalized assistance. How can I assist you further today?')])) verbose=True llm=ChatOpenAI(client=<openai.resources.chat.completions.Completions object at 0x10f70a410>, async_client=<openai.resources.chat.completions.AsyncCompletions object at 0x10f0365d0>, temperature=0.0, openai_api_key=SecretStr('**********'), openai_proxy='')\n"
     ]
    }
   ],
   "source": [
    "print(my_conversation)"
   ]
  },
  {
   "cell_type": "code",
   "execution_count": null,
   "id": "52f24c85-f9b5-4cd5-8ad2-a38704f85359",
   "metadata": {},
   "outputs": [],
   "source": []
  }
 ],
 "metadata": {
  "kernelspec": {
   "display_name": "Python 3 (ipykernel)",
   "language": "python",
   "name": "python3"
  },
  "language_info": {
   "codemirror_mode": {
    "name": "ipython",
    "version": 3
   },
   "file_extension": ".py",
   "mimetype": "text/x-python",
   "name": "python",
   "nbconvert_exporter": "python",
   "pygments_lexer": "ipython3",
   "version": "3.11.4"
  }
 },
 "nbformat": 4,
 "nbformat_minor": 5
}
